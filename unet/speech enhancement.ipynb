{
 "cells": [
  {
   "cell_type": "code",
   "execution_count": 1,
   "id": "c92021dc",
   "metadata": {
    "scrolled": true
   },
   "outputs": [
    {
     "name": "stdout",
     "output_type": "stream",
     "text": [
      "/Users/kim/Speech-enhancement\r\n"
     ]
    }
   ],
   "source": [
    "import os\n",
    "os.chdir(\"/Users/kim/Speech-enhancement\")\n",
    "!pwd"
   ]
  },
  {
   "cell_type": "code",
   "execution_count": 2,
   "id": "a9e21b14",
   "metadata": {
    "scrolled": true
   },
   "outputs": [],
   "source": [
    "import easydict"
   ]
  },
  {
   "cell_type": "code",
   "execution_count": 3,
   "id": "e5075655",
   "metadata": {},
   "outputs": [
    {
     "name": "stdout",
     "output_type": "stream",
     "text": [
      "2.4.1\n"
     ]
    },
    {
     "ename": "NameError",
     "evalue": "name 'args' is not defined",
     "output_type": "error",
     "traceback": [
      "\u001b[0;31m---------------------------------------------------------------------------\u001b[0m",
      "\u001b[0;31mNameError\u001b[0m                                 Traceback (most recent call last)",
      "\u001b[0;32m/var/folders/p1/kf4mwjln5nx8q343yc1yc4ch0000gn/T/ipykernel_22986/3860117285.py\u001b[0m in \u001b[0;36m<module>\u001b[0;34m\u001b[0m\n\u001b[1;32m      8\u001b[0m \u001b[0;34m\u001b[0m\u001b[0m\n\u001b[1;32m      9\u001b[0m \u001b[0;34m\u001b[0m\u001b[0m\n\u001b[0;32m---> 10\u001b[0;31m     \u001b[0mmode\u001b[0m \u001b[0;34m=\u001b[0m \u001b[0margs\u001b[0m\u001b[0;34m.\u001b[0m\u001b[0mmode\u001b[0m\u001b[0;34m\u001b[0m\u001b[0;34m\u001b[0m\u001b[0m\n\u001b[0m\u001b[1;32m     11\u001b[0m \u001b[0;34m\u001b[0m\u001b[0m\n\u001b[1;32m     12\u001b[0m     \u001b[0;31m# Initialize all modes to zero\u001b[0m\u001b[0;34m\u001b[0m\u001b[0;34m\u001b[0m\u001b[0;34m\u001b[0m\u001b[0m\n",
      "\u001b[0;31mNameError\u001b[0m: name 'args' is not defined"
     ]
    }
   ],
   "source": [
    "from args import parser\n",
    "import os\n",
    "from prepare_data import create_data\n",
    "from train_model import training\n",
    "from prediction_denoise import prediction\n",
    "\n",
    "if __name__ == '__main__':\n",
    "\n",
    "    args = parser.parse_args()\n",
    "\n",
    "    mode = args.mode\n",
    "\n",
    "    # Initialize all modes to zero\n",
    "    data_mode = False\n",
    "    training_mode = False\n",
    "    prediction_mode = False\n",
    "\n",
    "    # Update with the mode the user is asking\n",
    "    if mode == 'prediction':\n",
    "        prediction_mode = True\n",
    "    elif mode == 'training':\n",
    "        training_mode = True\n",
    "    elif mode == 'data_creation':\n",
    "        data_mode = True\n",
    "\n",
    "    if data_mode:\n",
    "        #Example: python main.py --mode='data_creation'\n",
    "\n",
    "        #folder containing noises\n",
    "        noise_dir = args.noise_dir\n",
    "        #folder containing clean voices\n",
    "        voice_dir = args.voice_dir\n",
    "        #path to save time series\n",
    "        path_save_time_serie = args.path_save_time_serie\n",
    "        #path to save sounds\n",
    "        path_save_sound = args.path_save_sound\n",
    "        #path to save spectrograms\n",
    "        path_save_spectrogram = args.path_save_spectrogram\n",
    "        # Sample rate to read audio\n",
    "        sample_rate = args.sample_rate\n",
    "        # Minimum duration of audio files to consider\n",
    "        min_duration = args.min_duration\n",
    "        #Frame length for training data\n",
    "        frame_length = args.frame_length\n",
    "        # hop length for clean voice files\n",
    "        hop_length_frame = args.hop_length_frame\n",
    "        # hop length for noise files\n",
    "        hop_length_frame_noise = args.hop_length_frame_noise\n",
    "        # How much frame to create for training\n",
    "        nb_samples = args.nb_samples\n",
    "        #nb of points for fft(for spectrogram computation)\n",
    "        n_fft = args.n_fft\n",
    "        #hop length for fft\n",
    "        hop_length_fft = args.hop_length_fft\n",
    "\n",
    "        create_data(noise_dir, voice_dir, path_save_time_serie, path_save_sound, path_save_spectrogram, sample_rate,\n",
    "        min_duration, frame_length, hop_length_frame, hop_length_frame_noise, nb_samples, n_fft, hop_length_fft)\n",
    "\n",
    "\n",
    "    elif training_mode:\n",
    "        #Example: python main.py --mode=\"training\"\n",
    "        #Path were to read spectrograms of noisy voice and clean voice\n",
    "        path_save_spectrogram = args.path_save_spectrogram\n",
    "        #path to find pre-trained weights / save models\n",
    "        weights_path = args.weights_folder\n",
    "        #pre trained model\n",
    "        name_model = args.name_model\n",
    "        #Training from scratch vs training from pre-trained weights\n",
    "        training_from_scratch = args.training_from_scratch\n",
    "        #epochs for training\n",
    "        epochs = args.epochs\n",
    "        #batch size for training\n",
    "        batch_size = args.batch_size\n",
    "\n",
    "        training(path_save_spectrogram, weights_path, name_model, training_from_scratch, epochs, batch_size)\n",
    "\n",
    "    elif prediction_mode:\n",
    "        #Example: python main.py --mode=\"prediction\"\n",
    "        #path to find pre-trained weights / save models\n",
    "        weights_path = args.weights_folder\n",
    "        #pre trained model\n",
    "        name_model = args.name_model\n",
    "        #directory where read noisy sound to denoise\n",
    "        audio_dir_prediction = args.audio_dir_prediction\n",
    "        #directory to save the denoise sound\n",
    "        dir_save_prediction = args.dir_save_prediction\n",
    "        #Name noisy sound file to denoise\n",
    "        audio_input_prediction = args.audio_input_prediction\n",
    "        #Name of denoised sound file to save\n",
    "        audio_output_prediction = args.audio_output_prediction\n",
    "        # Sample rate to read audio\n",
    "        sample_rate = args.sample_rate\n",
    "        # Minimum duration of audio files to consider\n",
    "        min_duration = args.min_duration\n",
    "        #Frame length for training data\n",
    "        frame_length = args.frame_length\n",
    "        # hop length for sound files\n",
    "        hop_length_frame = args.hop_length_frame\n",
    "        #nb of points for fft(for spectrogram computation)\n",
    "        n_fft = args.n_fft\n",
    "        #hop length for fft\n",
    "        hop_length_fft = args.hop_length_fft\n",
    "\n",
    "        prediction(weights_path, name_model, audio_dir_prediction, dir_save_prediction, audio_input_prediction,\n",
    "        audio_output_prediction, sample_rate, min_duration, frame_length, hop_length_frame, n_fft, hop_length_fft)\n"
   ]
  },
  {
   "cell_type": "code",
   "execution_count": null,
   "id": "0eef4109",
   "metadata": {},
   "outputs": [],
   "source": []
  }
 ],
 "metadata": {
  "kernelspec": {
   "display_name": "Python 3 (ipykernel)",
   "language": "python",
   "name": "python3"
  },
  "language_info": {
   "codemirror_mode": {
    "name": "ipython",
    "version": 3
   },
   "file_extension": ".py",
   "mimetype": "text/x-python",
   "name": "python",
   "nbconvert_exporter": "python",
   "pygments_lexer": "ipython3",
   "version": "3.8.8"
  }
 },
 "nbformat": 4,
 "nbformat_minor": 5
}
